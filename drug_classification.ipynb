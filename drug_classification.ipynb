{
 "cells": [
  {
   "cell_type": "code",
   "execution_count": 90,
   "metadata": {},
   "outputs": [
    {
     "data": {
      "text/html": [
       "<div>\n",
       "<style scoped>\n",
       "    .dataframe tbody tr th:only-of-type {\n",
       "        vertical-align: middle;\n",
       "    }\n",
       "\n",
       "    .dataframe tbody tr th {\n",
       "        vertical-align: top;\n",
       "    }\n",
       "\n",
       "    .dataframe thead th {\n",
       "        text-align: right;\n",
       "    }\n",
       "</style>\n",
       "<table border=\"1\" class=\"dataframe\">\n",
       "  <thead>\n",
       "    <tr style=\"text-align: right;\">\n",
       "      <th></th>\n",
       "      <th>Age</th>\n",
       "      <th>Sex</th>\n",
       "      <th>BP</th>\n",
       "      <th>Cholesterol</th>\n",
       "      <th>Na_to_K</th>\n",
       "      <th>Drug</th>\n",
       "    </tr>\n",
       "  </thead>\n",
       "  <tbody>\n",
       "    <tr>\n",
       "      <th>0</th>\n",
       "      <td>23</td>\n",
       "      <td>F</td>\n",
       "      <td>HIGH</td>\n",
       "      <td>HIGH</td>\n",
       "      <td>25.355</td>\n",
       "      <td>DrugY</td>\n",
       "    </tr>\n",
       "    <tr>\n",
       "      <th>1</th>\n",
       "      <td>47</td>\n",
       "      <td>M</td>\n",
       "      <td>LOW</td>\n",
       "      <td>HIGH</td>\n",
       "      <td>13.093</td>\n",
       "      <td>drugC</td>\n",
       "    </tr>\n",
       "    <tr>\n",
       "      <th>2</th>\n",
       "      <td>47</td>\n",
       "      <td>M</td>\n",
       "      <td>LOW</td>\n",
       "      <td>HIGH</td>\n",
       "      <td>10.114</td>\n",
       "      <td>drugC</td>\n",
       "    </tr>\n",
       "    <tr>\n",
       "      <th>3</th>\n",
       "      <td>28</td>\n",
       "      <td>F</td>\n",
       "      <td>NORMAL</td>\n",
       "      <td>HIGH</td>\n",
       "      <td>7.798</td>\n",
       "      <td>drugX</td>\n",
       "    </tr>\n",
       "    <tr>\n",
       "      <th>4</th>\n",
       "      <td>61</td>\n",
       "      <td>F</td>\n",
       "      <td>LOW</td>\n",
       "      <td>HIGH</td>\n",
       "      <td>18.043</td>\n",
       "      <td>DrugY</td>\n",
       "    </tr>\n",
       "    <tr>\n",
       "      <th>...</th>\n",
       "      <td>...</td>\n",
       "      <td>...</td>\n",
       "      <td>...</td>\n",
       "      <td>...</td>\n",
       "      <td>...</td>\n",
       "      <td>...</td>\n",
       "    </tr>\n",
       "    <tr>\n",
       "      <th>195</th>\n",
       "      <td>56</td>\n",
       "      <td>F</td>\n",
       "      <td>LOW</td>\n",
       "      <td>HIGH</td>\n",
       "      <td>11.567</td>\n",
       "      <td>drugC</td>\n",
       "    </tr>\n",
       "    <tr>\n",
       "      <th>196</th>\n",
       "      <td>16</td>\n",
       "      <td>M</td>\n",
       "      <td>LOW</td>\n",
       "      <td>HIGH</td>\n",
       "      <td>12.006</td>\n",
       "      <td>drugC</td>\n",
       "    </tr>\n",
       "    <tr>\n",
       "      <th>197</th>\n",
       "      <td>52</td>\n",
       "      <td>M</td>\n",
       "      <td>NORMAL</td>\n",
       "      <td>HIGH</td>\n",
       "      <td>9.894</td>\n",
       "      <td>drugX</td>\n",
       "    </tr>\n",
       "    <tr>\n",
       "      <th>198</th>\n",
       "      <td>23</td>\n",
       "      <td>M</td>\n",
       "      <td>NORMAL</td>\n",
       "      <td>NORMAL</td>\n",
       "      <td>14.020</td>\n",
       "      <td>drugX</td>\n",
       "    </tr>\n",
       "    <tr>\n",
       "      <th>199</th>\n",
       "      <td>40</td>\n",
       "      <td>F</td>\n",
       "      <td>LOW</td>\n",
       "      <td>NORMAL</td>\n",
       "      <td>11.349</td>\n",
       "      <td>drugX</td>\n",
       "    </tr>\n",
       "  </tbody>\n",
       "</table>\n",
       "<p>200 rows × 6 columns</p>\n",
       "</div>"
      ],
      "text/plain": [
       "     Age Sex      BP Cholesterol  Na_to_K   Drug\n",
       "0     23   F    HIGH        HIGH   25.355  DrugY\n",
       "1     47   M     LOW        HIGH   13.093  drugC\n",
       "2     47   M     LOW        HIGH   10.114  drugC\n",
       "3     28   F  NORMAL        HIGH    7.798  drugX\n",
       "4     61   F     LOW        HIGH   18.043  DrugY\n",
       "..   ...  ..     ...         ...      ...    ...\n",
       "195   56   F     LOW        HIGH   11.567  drugC\n",
       "196   16   M     LOW        HIGH   12.006  drugC\n",
       "197   52   M  NORMAL        HIGH    9.894  drugX\n",
       "198   23   M  NORMAL      NORMAL   14.020  drugX\n",
       "199   40   F     LOW      NORMAL   11.349  drugX\n",
       "\n",
       "[200 rows x 6 columns]"
      ]
     },
     "execution_count": 90,
     "metadata": {},
     "output_type": "execute_result"
    }
   ],
   "source": [
    "#Drug classification\n",
    "\n",
    "#Loading Dataset\n",
    "import numpy as np \n",
    "import pandas as pd \n",
    "df=pd.read_csv('drug_classification.csv')\n",
    "df"
   ]
  },
  {
   "cell_type": "code",
   "execution_count": 91,
   "metadata": {},
   "outputs": [
    {
     "data": {
      "text/html": [
       "<div>\n",
       "<style scoped>\n",
       "    .dataframe tbody tr th:only-of-type {\n",
       "        vertical-align: middle;\n",
       "    }\n",
       "\n",
       "    .dataframe tbody tr th {\n",
       "        vertical-align: top;\n",
       "    }\n",
       "\n",
       "    .dataframe thead th {\n",
       "        text-align: right;\n",
       "    }\n",
       "</style>\n",
       "<table border=\"1\" class=\"dataframe\">\n",
       "  <thead>\n",
       "    <tr style=\"text-align: right;\">\n",
       "      <th></th>\n",
       "      <th>Age</th>\n",
       "      <th>Sex</th>\n",
       "      <th>BP</th>\n",
       "      <th>Cholesterol</th>\n",
       "      <th>Na_to_K</th>\n",
       "      <th>Drug</th>\n",
       "    </tr>\n",
       "  </thead>\n",
       "  <tbody>\n",
       "    <tr>\n",
       "      <th>0</th>\n",
       "      <td>23</td>\n",
       "      <td>F</td>\n",
       "      <td>HIGH</td>\n",
       "      <td>HIGH</td>\n",
       "      <td>25.355</td>\n",
       "      <td>DrugY</td>\n",
       "    </tr>\n",
       "    <tr>\n",
       "      <th>1</th>\n",
       "      <td>47</td>\n",
       "      <td>M</td>\n",
       "      <td>LOW</td>\n",
       "      <td>HIGH</td>\n",
       "      <td>13.093</td>\n",
       "      <td>drugC</td>\n",
       "    </tr>\n",
       "    <tr>\n",
       "      <th>2</th>\n",
       "      <td>47</td>\n",
       "      <td>M</td>\n",
       "      <td>LOW</td>\n",
       "      <td>HIGH</td>\n",
       "      <td>10.114</td>\n",
       "      <td>drugC</td>\n",
       "    </tr>\n",
       "    <tr>\n",
       "      <th>3</th>\n",
       "      <td>28</td>\n",
       "      <td>F</td>\n",
       "      <td>NORMAL</td>\n",
       "      <td>HIGH</td>\n",
       "      <td>7.798</td>\n",
       "      <td>drugX</td>\n",
       "    </tr>\n",
       "    <tr>\n",
       "      <th>4</th>\n",
       "      <td>61</td>\n",
       "      <td>F</td>\n",
       "      <td>LOW</td>\n",
       "      <td>HIGH</td>\n",
       "      <td>18.043</td>\n",
       "      <td>DrugY</td>\n",
       "    </tr>\n",
       "  </tbody>\n",
       "</table>\n",
       "</div>"
      ],
      "text/plain": [
       "   Age Sex      BP Cholesterol  Na_to_K   Drug\n",
       "0   23   F    HIGH        HIGH   25.355  DrugY\n",
       "1   47   M     LOW        HIGH   13.093  drugC\n",
       "2   47   M     LOW        HIGH   10.114  drugC\n",
       "3   28   F  NORMAL        HIGH    7.798  drugX\n",
       "4   61   F     LOW        HIGH   18.043  DrugY"
      ]
     },
     "execution_count": 91,
     "metadata": {},
     "output_type": "execute_result"
    }
   ],
   "source": [
    "df.head()"
   ]
  },
  {
   "cell_type": "code",
   "execution_count": 92,
   "metadata": {},
   "outputs": [
    {
     "data": {
      "text/html": [
       "<div>\n",
       "<style scoped>\n",
       "    .dataframe tbody tr th:only-of-type {\n",
       "        vertical-align: middle;\n",
       "    }\n",
       "\n",
       "    .dataframe tbody tr th {\n",
       "        vertical-align: top;\n",
       "    }\n",
       "\n",
       "    .dataframe thead th {\n",
       "        text-align: right;\n",
       "    }\n",
       "</style>\n",
       "<table border=\"1\" class=\"dataframe\">\n",
       "  <thead>\n",
       "    <tr style=\"text-align: right;\">\n",
       "      <th></th>\n",
       "      <th>Age</th>\n",
       "      <th>Sex</th>\n",
       "      <th>BP</th>\n",
       "      <th>Cholesterol</th>\n",
       "      <th>Na_to_K</th>\n",
       "      <th>Drug</th>\n",
       "    </tr>\n",
       "  </thead>\n",
       "  <tbody>\n",
       "    <tr>\n",
       "      <th>195</th>\n",
       "      <td>56</td>\n",
       "      <td>F</td>\n",
       "      <td>LOW</td>\n",
       "      <td>HIGH</td>\n",
       "      <td>11.567</td>\n",
       "      <td>drugC</td>\n",
       "    </tr>\n",
       "    <tr>\n",
       "      <th>196</th>\n",
       "      <td>16</td>\n",
       "      <td>M</td>\n",
       "      <td>LOW</td>\n",
       "      <td>HIGH</td>\n",
       "      <td>12.006</td>\n",
       "      <td>drugC</td>\n",
       "    </tr>\n",
       "    <tr>\n",
       "      <th>197</th>\n",
       "      <td>52</td>\n",
       "      <td>M</td>\n",
       "      <td>NORMAL</td>\n",
       "      <td>HIGH</td>\n",
       "      <td>9.894</td>\n",
       "      <td>drugX</td>\n",
       "    </tr>\n",
       "    <tr>\n",
       "      <th>198</th>\n",
       "      <td>23</td>\n",
       "      <td>M</td>\n",
       "      <td>NORMAL</td>\n",
       "      <td>NORMAL</td>\n",
       "      <td>14.020</td>\n",
       "      <td>drugX</td>\n",
       "    </tr>\n",
       "    <tr>\n",
       "      <th>199</th>\n",
       "      <td>40</td>\n",
       "      <td>F</td>\n",
       "      <td>LOW</td>\n",
       "      <td>NORMAL</td>\n",
       "      <td>11.349</td>\n",
       "      <td>drugX</td>\n",
       "    </tr>\n",
       "  </tbody>\n",
       "</table>\n",
       "</div>"
      ],
      "text/plain": [
       "     Age Sex      BP Cholesterol  Na_to_K   Drug\n",
       "195   56   F     LOW        HIGH   11.567  drugC\n",
       "196   16   M     LOW        HIGH   12.006  drugC\n",
       "197   52   M  NORMAL        HIGH    9.894  drugX\n",
       "198   23   M  NORMAL      NORMAL   14.020  drugX\n",
       "199   40   F     LOW      NORMAL   11.349  drugX"
      ]
     },
     "execution_count": 92,
     "metadata": {},
     "output_type": "execute_result"
    }
   ],
   "source": [
    "df.tail()"
   ]
  },
  {
   "cell_type": "code",
   "execution_count": 93,
   "metadata": {},
   "outputs": [
    {
     "data": {
      "text/plain": [
       "(200, 6)"
      ]
     },
     "execution_count": 93,
     "metadata": {},
     "output_type": "execute_result"
    }
   ],
   "source": [
    "#Find the dimensions of the dataframe\n",
    "df.shape"
   ]
  },
  {
   "cell_type": "code",
   "execution_count": 94,
   "metadata": {},
   "outputs": [
    {
     "name": "stdout",
     "output_type": "stream",
     "text": [
      "<class 'pandas.core.frame.DataFrame'>\n",
      "RangeIndex: 200 entries, 0 to 199\n",
      "Data columns (total 6 columns):\n",
      " #   Column       Non-Null Count  Dtype  \n",
      "---  ------       --------------  -----  \n",
      " 0   Age          200 non-null    int64  \n",
      " 1   Sex          200 non-null    object \n",
      " 2   BP           200 non-null    object \n",
      " 3   Cholesterol  200 non-null    object \n",
      " 4   Na_to_K      200 non-null    float64\n",
      " 5   Drug         200 non-null    object \n",
      "dtypes: float64(1), int64(1), object(4)\n",
      "memory usage: 9.5+ KB\n"
     ]
    }
   ],
   "source": [
    "#Display concise information about a DataFrame.\n",
    "df.info()"
   ]
  },
  {
   "cell_type": "code",
   "execution_count": 95,
   "metadata": {},
   "outputs": [
    {
     "data": {
      "text/plain": [
       "Index(['Age', 'Sex', 'BP', 'Cholesterol', 'Na_to_K', 'Drug'], dtype='object')"
      ]
     },
     "execution_count": 95,
     "metadata": {},
     "output_type": "execute_result"
    }
   ],
   "source": [
    "#Checking columns\n",
    "df.columns"
   ]
  },
  {
   "cell_type": "code",
   "execution_count": 96,
   "metadata": {},
   "outputs": [
    {
     "data": {
      "text/plain": [
       "Age              int64\n",
       "Sex             object\n",
       "BP              object\n",
       "Cholesterol     object\n",
       "Na_to_K        float64\n",
       "Drug            object\n",
       "dtype: object"
      ]
     },
     "execution_count": 96,
     "metadata": {},
     "output_type": "execute_result"
    }
   ],
   "source": [
    "#Checking Datatypes\n",
    "df.dtypes"
   ]
  },
  {
   "cell_type": "code",
   "execution_count": 97,
   "metadata": {},
   "outputs": [
    {
     "data": {
      "text/html": [
       "<div>\n",
       "<style scoped>\n",
       "    .dataframe tbody tr th:only-of-type {\n",
       "        vertical-align: middle;\n",
       "    }\n",
       "\n",
       "    .dataframe tbody tr th {\n",
       "        vertical-align: top;\n",
       "    }\n",
       "\n",
       "    .dataframe thead th {\n",
       "        text-align: right;\n",
       "    }\n",
       "</style>\n",
       "<table border=\"1\" class=\"dataframe\">\n",
       "  <thead>\n",
       "    <tr style=\"text-align: right;\">\n",
       "      <th></th>\n",
       "      <th>Age</th>\n",
       "      <th>Na_to_K</th>\n",
       "    </tr>\n",
       "  </thead>\n",
       "  <tbody>\n",
       "    <tr>\n",
       "      <th>count</th>\n",
       "      <td>200.000000</td>\n",
       "      <td>200.000000</td>\n",
       "    </tr>\n",
       "    <tr>\n",
       "      <th>mean</th>\n",
       "      <td>44.315000</td>\n",
       "      <td>16.084485</td>\n",
       "    </tr>\n",
       "    <tr>\n",
       "      <th>std</th>\n",
       "      <td>16.544315</td>\n",
       "      <td>7.223956</td>\n",
       "    </tr>\n",
       "    <tr>\n",
       "      <th>min</th>\n",
       "      <td>15.000000</td>\n",
       "      <td>6.269000</td>\n",
       "    </tr>\n",
       "    <tr>\n",
       "      <th>25%</th>\n",
       "      <td>31.000000</td>\n",
       "      <td>10.445500</td>\n",
       "    </tr>\n",
       "    <tr>\n",
       "      <th>50%</th>\n",
       "      <td>45.000000</td>\n",
       "      <td>13.936500</td>\n",
       "    </tr>\n",
       "    <tr>\n",
       "      <th>75%</th>\n",
       "      <td>58.000000</td>\n",
       "      <td>19.380000</td>\n",
       "    </tr>\n",
       "    <tr>\n",
       "      <th>max</th>\n",
       "      <td>74.000000</td>\n",
       "      <td>38.247000</td>\n",
       "    </tr>\n",
       "  </tbody>\n",
       "</table>\n",
       "</div>"
      ],
      "text/plain": [
       "              Age     Na_to_K\n",
       "count  200.000000  200.000000\n",
       "mean    44.315000   16.084485\n",
       "std     16.544315    7.223956\n",
       "min     15.000000    6.269000\n",
       "25%     31.000000   10.445500\n",
       "50%     45.000000   13.936500\n",
       "75%     58.000000   19.380000\n",
       "max     74.000000   38.247000"
      ]
     },
     "execution_count": 97,
     "metadata": {},
     "output_type": "execute_result"
    }
   ],
   "source": [
    "#Generate summary statistics of  DataFrame's numerical columns.\n",
    "df.describe()"
   ]
  },
  {
   "cell_type": "code",
   "execution_count": 98,
   "metadata": {},
   "outputs": [
    {
     "data": {
      "text/plain": [
       "Age            0\n",
       "Sex            0\n",
       "BP             0\n",
       "Cholesterol    0\n",
       "Na_to_K        0\n",
       "Drug           0\n",
       "dtype: int64"
      ]
     },
     "execution_count": 98,
     "metadata": {},
     "output_type": "execute_result"
    }
   ],
   "source": [
    "#Checking count of missing values in each column\n",
    "df.isna().sum()"
   ]
  },
  {
   "cell_type": "code",
   "execution_count": 99,
   "metadata": {},
   "outputs": [
    {
     "data": {
      "text/plain": [
       "Drug\n",
       "DrugY    91\n",
       "drugX    54\n",
       "drugA    23\n",
       "drugC    16\n",
       "drugB    16\n",
       "Name: count, dtype: int64"
      ]
     },
     "execution_count": 99,
     "metadata": {},
     "output_type": "execute_result"
    }
   ],
   "source": [
    "#count the number of occurrences of each class target column \n",
    "df1=df['Drug'].value_counts()\n",
    "df1"
   ]
  },
  {
   "cell_type": "code",
   "execution_count": 100,
   "metadata": {},
   "outputs": [
    {
     "data": {
      "text/plain": [
       "<matplotlib.legend.Legend at 0x21c6070a010>"
      ]
     },
     "execution_count": 100,
     "metadata": {},
     "output_type": "execute_result"
    },
    {
     "data": {
      "image/png": "[encoded data removed]",
      "text/plain": [
       "<Figure size 640x480 with 1 Axes>"
      ]
     },
     "metadata": {},
     "output_type": "display_data"
    }
   ],
   "source": [
    "#A piechart is drawn using matplotlib to visualize the class distribution\n",
    "import matplotlib.pyplot as plt\n",
    "plt.pie(df1.values,labels=df1.index,autopct=\"%1.1f%%\")\n",
    "plt.title(\"Class Distribution\")\n",
    "plt.legend()"
   ]
  },
  {
   "cell_type": "code",
   "execution_count": 101,
   "metadata": {},
   "outputs": [
    {
     "data": {
      "text/plain": [
       "Sex\n",
       "M    104\n",
       "F     96\n",
       "Name: count, dtype: int64"
      ]
     },
     "execution_count": 101,
     "metadata": {},
     "output_type": "execute_result"
    }
   ],
   "source": [
    "#count the number of occurrences of each gender\n",
    "df2=df['Sex'].value_counts()\n",
    "df2"
   ]
  },
  {
   "cell_type": "code",
   "execution_count": 102,
   "metadata": {},
   "outputs": [
    {
     "data": {
      "text/plain": [
       "Text(0.5, 1.0, 'Sex Distribution')"
      ]
     },
     "execution_count": 102,
     "metadata": {},
     "output_type": "execute_result"
    },
    {
     "data": {
      "image/png": "[encoded data removed]",
      "text/plain": [
       "<Figure size 640x480 with 1 Axes>"
      ]
     },
     "metadata": {},
     "output_type": "display_data"
    }
   ],
   "source": [
    "#A piechart is drawn using matplotlib to visualize the gender distribution\n",
    "plt.pie(df2.values,labels=df2.index,autopct=\"%1.1f%%\",colors=['lightcoral', 'lightgreen'])\n",
    "plt.legend()\n",
    "plt.title(\"Sex Distribution\")"
   ]
  },
  {
   "cell_type": "code",
   "execution_count": 103,
   "metadata": {},
   "outputs": [
    {
     "data": {
      "text/plain": [
       "BP\n",
       "HIGH      77\n",
       "LOW       64\n",
       "NORMAL    59\n",
       "Name: count, dtype: int64"
      ]
     },
     "execution_count": 103,
     "metadata": {},
     "output_type": "execute_result"
    }
   ],
   "source": [
    "#Count the number of occurances of BP level\n",
    "df3=df['BP'].value_counts()\n",
    "df3"
   ]
  },
  {
   "cell_type": "code",
   "execution_count": 104,
   "metadata": {},
   "outputs": [
    {
     "data": {
      "text/plain": [
       "Text(0.5, 1.0, 'BP level - Count Graph')"
      ]
     },
     "execution_count": 104,
     "metadata": {},
     "output_type": "execute_result"
    },
    {
     "data": {
      "image/png": "[encoded data removed]",
      "text/plain": [
       "<Figure size 640x480 with 1 Axes>"
      ]
     },
     "metadata": {},
     "output_type": "display_data"
    }
   ],
   "source": [
    "#A barchart is drawn using matplotlib to visualize the BP level distribution\n",
    "plt.bar(df3.index,df3.values,color='lightcoral')\n",
    "plt.xlabel(\"BP level\")\n",
    "plt.ylabel(\"Count\")\n",
    "plt.title(\"BP level - Count Graph\",color='indigo')"
   ]
  },
  {
   "cell_type": "code",
   "execution_count": 105,
   "metadata": {},
   "outputs": [
    {
     "data": {
      "text/plain": [
       "Cholesterol\n",
       "HIGH      103\n",
       "NORMAL     97\n",
       "Name: count, dtype: int64"
      ]
     },
     "execution_count": 105,
     "metadata": {},
     "output_type": "execute_result"
    }
   ],
   "source": [
    "#Finding counts of cholestrol level\n",
    "df4=df['Cholesterol'].value_counts()\n",
    "df4"
   ]
  },
  {
   "cell_type": "code",
   "execution_count": 106,
   "metadata": {},
   "outputs": [
    {
     "data": {
      "text/plain": [
       "Text(0.5, 1.0, 'Cholestrol level - Count Graph')"
      ]
     },
     "execution_count": 106,
     "metadata": {},
     "output_type": "execute_result"
    },
    {
     "data": {
      "image/png": "[encoded data removed]",
      "text/plain": [
       "<Figure size 640x480 with 1 Axes>"
      ]
     },
     "metadata": {},
     "output_type": "display_data"
    }
   ],
   "source": [
    "#Plotting barchart for displaying cholestrol level count\n",
    "plt.bar(df4.index,df4.values,color='violet')\n",
    "plt.xlabel(\"Cholestrol level\")\n",
    "plt.ylabel(\"Count\")\n",
    "plt.title(\"Cholestrol level - Count Graph\")"
   ]
  },
  {
   "cell_type": "code",
   "execution_count": 107,
   "metadata": {},
   "outputs": [],
   "source": [
    "#label encoding categorical variables in a dataset using LabelEncoder\n",
    "#It converts categorical (string) data into numerical values.\n",
    "\n",
    "from sklearn.preprocessing import LabelEncoder\n",
    "lab=LabelEncoder()\n",
    "df['Sex']=lab.fit_transform(df['Sex'])\n",
    "df['BP']=lab.fit_transform(df['BP'])\n",
    "df['Cholesterol']=lab.fit_transform(df['Cholesterol'])"
   ]
  },
  {
   "cell_type": "code",
   "execution_count": 108,
   "metadata": {},
   "outputs": [],
   "source": [
    "#Splitting input and output as arrays on x and y\n",
    "x=df.iloc[:,:-1].values\n",
    "y=df.iloc[:,-1].values"
   ]
  },
  {
   "cell_type": "code",
   "execution_count": 109,
   "metadata": {},
   "outputs": [
    {
     "data": {
      "text/plain": [
       "array([[67.   ,  1.   ,  2.   ,  1.   ,  9.514],\n",
       "       [17.   ,  1.   ,  2.   ,  1.   , 10.832],\n",
       "       [19.   ,  0.   ,  0.   ,  0.   , 13.313],\n",
       "       [50.   ,  1.   ,  2.   ,  1.   , 15.79 ],\n",
       "       [43.   ,  1.   ,  0.   ,  0.   , 13.972],\n",
       "       [22.   ,  0.   ,  2.   ,  0.   ,  8.607],\n",
       "       [35.   ,  1.   ,  2.   ,  1.   ,  7.845],\n",
       "       [37.   ,  1.   ,  1.   ,  1.   ,  8.968],\n",
       "       [23.   ,  1.   ,  2.   ,  0.   , 31.686],\n",
       "       [29.   ,  1.   ,  0.   ,  0.   , 12.856],\n",
       "       [68.   ,  0.   ,  0.   ,  1.   , 10.189],\n",
       "       [47.   ,  0.   ,  1.   ,  0.   , 10.067],\n",
       "       [36.   ,  0.   ,  0.   ,  1.   , 15.49 ],\n",
       "       [59.   ,  0.   ,  1.   ,  0.   , 10.444],\n",
       "       [58.   ,  0.   ,  1.   ,  0.   , 26.645],\n",
       "       [65.   ,  0.   ,  1.   ,  1.   , 13.769],\n",
       "       [43.   ,  1.   ,  1.   ,  0.   , 15.376],\n",
       "       [40.   ,  0.   ,  2.   ,  0.   , 10.103],\n",
       "       [42.   ,  0.   ,  1.   ,  1.   , 29.271],\n",
       "       [28.   ,  1.   ,  2.   ,  0.   , 27.064],\n",
       "       [37.   ,  1.   ,  1.   ,  1.   , 16.724],\n",
       "       [62.   ,  1.   ,  2.   ,  0.   , 16.594],\n",
       "       [64.   ,  1.   ,  2.   ,  0.   ,  7.761],\n",
       "       [34.   ,  1.   ,  2.   ,  0.   , 22.456],\n",
       "       [23.   ,  1.   ,  0.   ,  0.   ,  8.011],\n",
       "       [74.   ,  0.   ,  1.   ,  0.   , 20.942],\n",
       "       [32.   ,  0.   ,  1.   ,  0.   ,  9.712],\n",
       "       [49.   ,  1.   ,  1.   ,  1.   , 13.598],\n",
       "       [47.   ,  1.   ,  0.   ,  0.   , 10.403],\n",
       "       [66.   ,  0.   ,  2.   ,  1.   ,  8.107],\n",
       "       [15.   ,  0.   ,  0.   ,  1.   , 16.725],\n",
       "       [32.   ,  1.   ,  0.   ,  1.   ,  9.445],\n",
       "       [57.   ,  0.   ,  0.   ,  1.   ,  9.945],\n",
       "       [70.   ,  1.   ,  0.   ,  0.   ,  9.849],\n",
       "       [72.   ,  0.   ,  1.   ,  1.   , 14.642],\n",
       "       [56.   ,  1.   ,  2.   ,  0.   ,  8.966],\n",
       "       [56.   ,  0.   ,  1.   ,  0.   , 11.567],\n",
       "       [52.   ,  1.   ,  2.   ,  0.   ,  9.894],\n",
       "       [61.   ,  0.   ,  1.   ,  1.   ,  7.34 ],\n",
       "       [41.   ,  0.   ,  1.   ,  1.   , 18.739],\n",
       "       [26.   ,  1.   ,  1.   ,  1.   , 20.909],\n",
       "       [63.   ,  1.   ,  2.   ,  0.   , 25.917],\n",
       "       [41.   ,  1.   ,  0.   ,  1.   , 15.156],\n",
       "       [55.   ,  1.   ,  2.   ,  1.   ,  7.261],\n",
       "       [47.   ,  1.   ,  1.   ,  0.   , 10.114],\n",
       "       [70.   ,  1.   ,  0.   ,  0.   , 13.967],\n",
       "       [59.   ,  1.   ,  0.   ,  0.   , 13.935],\n",
       "       [49.   ,  1.   ,  0.   ,  1.   ,  8.7  ],\n",
       "       [49.   ,  0.   ,  2.   ,  0.   , 16.275],\n",
       "       [35.   ,  1.   ,  1.   ,  1.   ,  9.17 ],\n",
       "       [23.   ,  0.   ,  0.   ,  0.   , 25.355],\n",
       "       [49.   ,  1.   ,  1.   ,  0.   , 10.537],\n",
       "       [26.   ,  0.   ,  0.   ,  1.   , 19.161],\n",
       "       [68.   ,  0.   ,  2.   ,  1.   , 27.05 ],\n",
       "       [26.   ,  0.   ,  1.   ,  0.   , 14.16 ],\n",
       "       [57.   ,  0.   ,  2.   ,  0.   , 14.216],\n",
       "       [37.   ,  0.   ,  0.   ,  1.   , 23.091],\n",
       "       [70.   ,  0.   ,  2.   ,  0.   , 20.489],\n",
       "       [37.   ,  0.   ,  0.   ,  0.   , 13.091],\n",
       "       [67.   ,  1.   ,  1.   ,  1.   , 20.693],\n",
       "       [31.   ,  1.   ,  0.   ,  1.   , 17.069],\n",
       "       [29.   ,  0.   ,  0.   ,  0.   , 29.45 ],\n",
       "       [26.   ,  0.   ,  0.   ,  1.   , 12.307],\n",
       "       [30.   ,  0.   ,  2.   ,  0.   , 10.443],\n",
       "       [74.   ,  1.   ,  0.   ,  1.   , 15.436],\n",
       "       [69.   ,  1.   ,  1.   ,  0.   , 15.478],\n",
       "       [22.   ,  0.   ,  0.   ,  1.   , 22.818],\n",
       "       [61.   ,  1.   ,  2.   ,  0.   ,  9.443],\n",
       "       [16.   ,  1.   ,  0.   ,  1.   , 19.007],\n",
       "       [47.   ,  0.   ,  1.   ,  0.   , 11.767],\n",
       "       [49.   ,  1.   ,  1.   ,  1.   , 11.014],\n",
       "       [38.   ,  0.   ,  0.   ,  1.   , 11.326],\n",
       "       [20.   ,  0.   ,  1.   ,  1.   , 11.686],\n",
       "       [31.   ,  1.   ,  0.   ,  1.   , 11.871],\n",
       "       [19.   ,  0.   ,  0.   ,  1.   , 25.969],\n",
       "       [48.   ,  0.   ,  1.   ,  0.   , 15.036],\n",
       "       [66.   ,  1.   ,  0.   ,  0.   , 16.347],\n",
       "       [43.   ,  1.   ,  1.   ,  1.   , 19.368],\n",
       "       [28.   ,  0.   ,  2.   ,  0.   , 12.879],\n",
       "       [22.   ,  1.   ,  0.   ,  1.   , 28.294],\n",
       "       [68.   ,  1.   ,  0.   ,  0.   , 11.009],\n",
       "       [74.   ,  1.   ,  1.   ,  1.   , 11.939],\n",
       "       [47.   ,  0.   ,  2.   ,  1.   ,  6.683],\n",
       "       [65.   ,  1.   ,  0.   ,  1.   , 34.997],\n",
       "       [60.   ,  0.   ,  0.   ,  0.   , 13.303],\n",
       "       [16.   ,  0.   ,  0.   ,  1.   , 15.516],\n",
       "       [58.   ,  0.   ,  0.   ,  1.   , 14.239],\n",
       "       [21.   ,  0.   ,  0.   ,  1.   , 28.632],\n",
       "       [23.   ,  1.   ,  2.   ,  0.   , 16.85 ],\n",
       "       [60.   ,  1.   ,  0.   ,  0.   , 13.934],\n",
       "       [62.   ,  1.   ,  1.   ,  1.   , 27.183],\n",
       "       [31.   ,  1.   ,  0.   ,  0.   , 30.366],\n",
       "       [36.   ,  0.   ,  0.   ,  0.   , 11.198],\n",
       "       [23.   ,  1.   ,  2.   ,  0.   , 12.26 ],\n",
       "       [33.   ,  0.   ,  1.   ,  0.   , 33.486],\n",
       "       [28.   ,  0.   ,  2.   ,  0.   ,  7.798],\n",
       "       [20.   ,  0.   ,  0.   ,  0.   , 11.262],\n",
       "       [28.   ,  0.   ,  1.   ,  0.   , 19.796],\n",
       "       [22.   ,  1.   ,  1.   ,  0.   ,  8.151],\n",
       "       [52.   ,  1.   ,  1.   ,  1.   , 32.922],\n",
       "       [58.   ,  1.   ,  0.   ,  0.   , 18.991],\n",
       "       [18.   ,  0.   ,  2.   ,  1.   ,  8.75 ],\n",
       "       [15.   ,  1.   ,  0.   ,  1.   , 17.206],\n",
       "       [51.   ,  1.   ,  0.   ,  0.   , 18.295],\n",
       "       [73.   ,  0.   ,  0.   ,  0.   , 18.348],\n",
       "       [60.   ,  1.   ,  2.   ,  0.   , 15.171],\n",
       "       [38.   ,  0.   ,  1.   ,  1.   , 29.875],\n",
       "       [47.   ,  1.   ,  1.   ,  1.   , 33.542],\n",
       "       [47.   ,  1.   ,  1.   ,  0.   , 13.093],\n",
       "       [40.   ,  1.   ,  0.   ,  0.   , 27.826],\n",
       "       [47.   ,  1.   ,  1.   ,  1.   , 30.568],\n",
       "       [24.   ,  1.   ,  0.   ,  1.   ,  9.475],\n",
       "       [45.   ,  1.   ,  1.   ,  1.   ,  8.37 ],\n",
       "       [41.   ,  1.   ,  1.   ,  0.   , 11.037],\n",
       "       [16.   ,  1.   ,  1.   ,  0.   , 12.006],\n",
       "       [64.   ,  0.   ,  1.   ,  1.   , 25.741],\n",
       "       [51.   ,  0.   ,  2.   ,  0.   , 13.597],\n",
       "       [58.   ,  0.   ,  1.   ,  0.   , 38.247],\n",
       "       [54.   ,  1.   ,  2.   ,  0.   , 24.658],\n",
       "       [58.   ,  0.   ,  0.   ,  0.   , 19.416],\n",
       "       [60.   ,  1.   ,  0.   ,  1.   ,  8.621],\n",
       "       [53.   ,  1.   ,  1.   ,  0.   , 22.963],\n",
       "       [31.   ,  1.   ,  0.   ,  1.   , 11.227],\n",
       "       [69.   ,  0.   ,  2.   ,  0.   , 10.065],\n",
       "       [37.   ,  0.   ,  1.   ,  1.   , 12.006],\n",
       "       [45.   ,  0.   ,  0.   ,  0.   , 12.854],\n",
       "       [57.   ,  1.   ,  1.   ,  1.   , 19.128],\n",
       "       [39.   ,  1.   ,  2.   ,  0.   , 15.969],\n",
       "       [28.   ,  0.   ,  0.   ,  1.   , 18.809],\n",
       "       [42.   ,  0.   ,  0.   ,  0.   , 21.036],\n",
       "       [28.   ,  0.   ,  2.   ,  0.   , 19.675],\n",
       "       [32.   ,  0.   ,  2.   ,  0.   ,  7.477],\n",
       "       [39.   ,  1.   ,  0.   ,  0.   ,  9.664],\n",
       "       [72.   ,  1.   ,  1.   ,  0.   , 16.31 ],\n",
       "       [32.   ,  0.   ,  1.   ,  1.   , 10.84 ],\n",
       "       [24.   ,  1.   ,  2.   ,  0.   , 25.786],\n",
       "       [35.   ,  0.   ,  0.   ,  0.   , 12.894],\n",
       "       [24.   ,  0.   ,  2.   ,  0.   , 10.605],\n",
       "       [49.   ,  1.   ,  0.   ,  1.   ,  6.269],\n",
       "       [39.   ,  1.   ,  1.   ,  1.   , 13.938]])"
      ]
     },
     "execution_count": 109,
     "metadata": {},
     "output_type": "execute_result"
    }
   ],
   "source": [
    "#Splitting dataset into training data and testing data\n",
    "from sklearn.model_selection import train_test_split \n",
    "x_train,x_test,y_train,y_test=train_test_split(x,y,test_size=0.30,random_state=1)\n",
    "x_train"
   ]
  },
  {
   "cell_type": "code",
   "execution_count": 110,
   "metadata": {},
   "outputs": [],
   "source": [
    "#Normalizing the data\n",
    "from sklearn.preprocessing import StandardScaler\n",
    "scaler=StandardScaler()\n",
    "scaler.fit(x_train)\n",
    "x_train=scaler.transform(x_train)\n",
    "x_test=scaler.transform(x_test)"
   ]
  },
  {
   "cell_type": "code",
   "execution_count": 111,
   "metadata": {},
   "outputs": [
    {
     "data": {
      "text/plain": [
       "array(['drugX', 'DrugY', 'drugX', 'drugX', 'DrugY', 'drugX', 'drugX',\n",
       "       'DrugY', 'DrugY', 'DrugY', 'drugX', 'drugX', 'DrugY', 'DrugY',\n",
       "       'drugB', 'drugA', 'drugX', 'drugX', 'drugB', 'DrugY', 'drugX',\n",
       "       'drugX', 'drugX', 'drugX', 'drugB', 'drugX', 'drugX', 'DrugY',\n",
       "       'drugX', 'drugX', 'drugX', 'DrugY', 'DrugY', 'DrugY', 'drugB',\n",
       "       'DrugY', 'drugA', 'DrugY', 'DrugY', 'DrugY', 'drugB', 'DrugY',\n",
       "       'DrugY', 'drugX', 'drugB', 'DrugY', 'drugX', 'drugX', 'DrugY',\n",
       "       'drugB', 'DrugY', 'DrugY', 'DrugY', 'DrugY', 'DrugY', 'drugX',\n",
       "       'drugX', 'drugX', 'drugX', 'drugB'], dtype='<U5')"
      ]
     },
     "execution_count": 111,
     "metadata": {},
     "output_type": "execute_result"
    }
   ],
   "source": [
    "#Model creation \n",
    "from sklearn.naive_bayes import BernoulliNB\n",
    "model=BernoulliNB()\n",
    "model.fit(x_train,y_train)\n",
    "y_pred=model.predict(x_test)\n",
    "y_pred"
   ]
  },
  {
   "cell_type": "code",
   "execution_count": 112,
   "metadata": {},
   "outputs": [
    {
     "data": {
      "text/plain": [
       "array([[25,  0,  0,  0,  2],\n",
       "       [ 0,  2,  2,  0,  0],\n",
       "       [ 0,  0,  6,  0,  0],\n",
       "       [ 0,  0,  0,  0,  4],\n",
       "       [ 0,  0,  0,  0, 19]], dtype=int64)"
      ]
     },
     "execution_count": 112,
     "metadata": {},
     "output_type": "execute_result"
    }
   ],
   "source": [
    "#Confusion matrix\n",
    "from sklearn.metrics import confusion_matrix,accuracy_score\n",
    "cm=confusion_matrix(y_test,y_pred)\n",
    "cm"
   ]
  },
  {
   "cell_type": "code",
   "execution_count": 113,
   "metadata": {},
   "outputs": [
    {
     "data": {
      "text/plain": [
       "array(['drugX', 'drugX', 'drugA', 'DrugY', 'drugA', 'drugX', 'drugX',\n",
       "       'drugX', 'DrugY', 'drugA', 'drugB', 'drugC', 'DrugY', 'drugC',\n",
       "       'DrugY', 'drugX', 'DrugY', 'drugX', 'DrugY', 'DrugY', 'DrugY',\n",
       "       'DrugY', 'drugX', 'DrugY', 'drugA', 'DrugY', 'drugC', 'drugX',\n",
       "       'drugA', 'drugX', 'DrugY', 'drugA', 'drugB', 'drugB', 'drugX',\n",
       "       'drugX', 'drugC', 'drugX', 'drugX', 'DrugY', 'DrugY', 'DrugY',\n",
       "       'DrugY', 'drugX', 'drugC', 'drugB', 'drugB', 'drugA', 'DrugY',\n",
       "       'drugX', 'DrugY', 'drugC', 'DrugY', 'DrugY', 'drugC', 'drugX',\n",
       "       'DrugY', 'DrugY', 'drugA', 'DrugY', 'DrugY', 'DrugY', 'drugA',\n",
       "       'drugX', 'DrugY', 'DrugY', 'DrugY', 'drugX', 'DrugY', 'drugC',\n",
       "       'drugX', 'drugA', 'drugX', 'drugA', 'DrugY', 'DrugY', 'DrugY',\n",
       "       'DrugY', 'drugX', 'DrugY', 'drugB', 'drugX', 'drugX', 'DrugY',\n",
       "       'drugB', 'DrugY', 'drugB', 'DrugY', 'DrugY', 'drugB', 'DrugY',\n",
       "       'DrugY', 'drugA', 'drugX', 'DrugY', 'drugX', 'drugA', 'DrugY',\n",
       "       'drugC', 'DrugY', 'DrugY', 'drugX', 'DrugY', 'DrugY', 'DrugY',\n",
       "       'DrugY', 'DrugY', 'DrugY', 'drugC', 'DrugY', 'DrugY', 'drugA',\n",
       "       'drugX', 'drugC', 'drugC', 'DrugY', 'drugX', 'DrugY', 'DrugY',\n",
       "       'DrugY', 'drugB', 'DrugY', 'drugA', 'drugX', 'drugX', 'drugA',\n",
       "       'DrugY', 'DrugY', 'DrugY', 'DrugY', 'DrugY', 'drugX', 'drugA',\n",
       "       'DrugY', 'drugX', 'DrugY', 'drugA', 'drugX', 'drugA', 'drugX'],\n",
       "      dtype=object)"
      ]
     },
     "execution_count": 113,
     "metadata": {},
     "output_type": "execute_result"
    }
   ],
   "source": [
    "#Displaying confusion matrix\n",
    "#Labels order check from y_train\n",
    "y_train\n"
   ]
  },
  {
   "cell_type": "code",
   "execution_count": 114,
   "metadata": {},
   "outputs": [
    {
     "data": {
      "text/plain": [
       "<sklearn.metrics._plot.confusion_matrix.ConfusionMatrixDisplay at 0x21c581dffd0>"
      ]
     },
     "execution_count": 114,
     "metadata": {},
     "output_type": "execute_result"
    },
    {
     "data": {
      "image/png": "[encoded data removed]",
      "text/plain": [
       "<Figure size 640x480 with 2 Axes>"
      ]
     },
     "metadata": {},
     "output_type": "display_data"
    }
   ],
   "source": [
    "from sklearn.metrics import ConfusionMatrixDisplay\n",
    "labels=['drugX', 'drugA', 'DrugY','drugB', 'drugC']  #order of y_train\n",
    "cmd=ConfusionMatrixDisplay(cm,display_labels=labels)\n",
    "cmd.plot()"
   ]
  },
  {
   "cell_type": "code",
   "execution_count": 115,
   "metadata": {},
   "outputs": [
    {
     "data": {
      "text/plain": [
       "0.8666666666666667"
      ]
     },
     "execution_count": 115,
     "metadata": {},
     "output_type": "execute_result"
    }
   ],
   "source": [
    "#Accuracy score\n",
    "from sklearn.metrics import accuracy_score\n",
    "score=accuracy_score(y_test,y_pred)\n",
    "score"
   ]
  },
  {
   "cell_type": "code",
   "execution_count": 116,
   "metadata": {},
   "outputs": [
    {
     "name": "stdout",
     "output_type": "stream",
     "text": [
      "              precision    recall  f1-score   support\n",
      "\n",
      "       DrugY       1.00      0.93      0.96        27\n",
      "       drugA       1.00      0.50      0.67         4\n",
      "       drugB       0.75      1.00      0.86         6\n",
      "       drugC       0.00      0.00      0.00         4\n",
      "       drugX       0.76      1.00      0.86        19\n",
      "\n",
      "    accuracy                           0.87        60\n",
      "   macro avg       0.70      0.69      0.67        60\n",
      "weighted avg       0.83      0.87      0.84        60\n",
      "\n"
     ]
    },
    {
     "name": "stderr",
     "output_type": "stream",
     "text": [
      "c:\\Users\\anjuc\\anaconda3\\Lib\\site-packages\\sklearn\\metrics\\_classification.py:1344: UndefinedMetricWarning: Precision and F-score are ill-defined and being set to 0.0 in labels with no predicted samples. Use `zero_division` parameter to control this behavior.\n",
      "  _warn_prf(average, modifier, msg_start, len(result))\n",
      "c:\\Users\\anjuc\\anaconda3\\Lib\\site-packages\\sklearn\\metrics\\_classification.py:1344: UndefinedMetricWarning: Precision and F-score are ill-defined and being set to 0.0 in labels with no predicted samples. Use `zero_division` parameter to control this behavior.\n",
      "  _warn_prf(average, modifier, msg_start, len(result))\n",
      "c:\\Users\\anjuc\\anaconda3\\Lib\\site-packages\\sklearn\\metrics\\_classification.py:1344: UndefinedMetricWarning: Precision and F-score are ill-defined and being set to 0.0 in labels with no predicted samples. Use `zero_division` parameter to control this behavior.\n",
      "  _warn_prf(average, modifier, msg_start, len(result))\n"
     ]
    }
   ],
   "source": [
    "#Classification report\n",
    "# It evaluates the performance of a classification model by computing various metrics.\n",
    "\n",
    "from sklearn.metrics import classification_report\n",
    "cr=classification_report(y_test,y_pred)\n",
    "print(cr)"
   ]
  }
 ],
 "metadata": {
  "kernelspec": {
   "display_name": "base",
   "language": "python",
   "name": "python3"
  },
  "language_info": {
   "codemirror_mode": {
    "name": "ipython",
    "version": 3
   },
   "file_extension": ".py",
   "mimetype": "text/x-python",
   "name": "python",
   "nbconvert_exporter": "python",
   "pygments_lexer": "ipython3",
   "version": "3.11.7"
  }
 },
 "nbformat": 4,
 "nbformat_minor": 2
}
